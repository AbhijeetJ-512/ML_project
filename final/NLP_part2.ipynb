{
 "cells": [
  {
   "cell_type": "code",
   "execution_count": null,
   "metadata": {},
   "outputs": [],
   "source": [
    "from tensorflow.keras.preprocessing.text import Tokenizer\n",
    "from tensorflow.keras.preprocessing.sequence import pad_sequences\n",
    "import pandas as pd\n",
    "import numpy as np"
   ]
  },
  {
   "cell_type": "code",
   "execution_count": null,
   "metadata": {},
   "outputs": [],
   "source": [
    "data = pd.read_csv(\n",
    "    \"../data/LJSpeech-1.1/metadata.csv\",\n",
    "    sep=\"|\",\n",
    "    header=None,\n",
    "    names=[\"ID\", \"Text1\", \"Text2\"],\n",
    ")\n",
    "texts = data[\"Text1\"].to_list()\n",
    "ID = data[\"ID\"].to_list()"
   ]
  },
  {
   "cell_type": "code",
   "execution_count": 34,
   "metadata": {},
   "outputs": [
    {
     "name": "stdout",
     "output_type": "stream",
     "text": [
      "[[986, 5, 1, 64, 1528, 15, 20, 119, 50, 18, 254, 717, 8772, 24, 89, 93, 22, 24, 38, 1, 5258, 3, 6546, 2364, 5, 1, 3381], [5, 173, 4409, 656], [12, 157, 1, 8773, 188, 3382, 24, 3049, 1382, 4410, 5, 987, 12, 2557, 74, 1, 8774, 2, 1, 8775, 16, 6, 569, 1072], [1119, 1, 949, 657, 20, 19, 1, 825, 6547, 2, 1, 988, 911, 357], [1, 5259, 2, 3383, 2041, 499, 5, 1, 743, 2, 1, 3820, 876, 112, 5260, 21, 392, 14, 1, 5259, 2, 1, 1699, 2, 986], [3, 17, 26, 718, 1601, 5, 989, 8, 14, 32, 950, 2, 1383, 5261], [1, 2558, 357, 911, 15, 3383, 1783, 1, 6548, 27, 1217, 63, 744, 3384, 2, 59, 8776], [68, 166, 31, 6549], [986, 98, 12, 169, 411, 112, 21, 392, 14, 1, 1699, 2, 463, 657, 16, 291, 2, 3383, 1783], [124, 14, 38, 657, 22, 2559, 745, 14, 570, 657, 4411, 2365, 2, 1783, 2801, 4, 376, 8777]]\n",
      "[[ 986    5    1   64 1528   15   20  119   50   18  254  717 8772   24\n",
      "    89   93   22   24   38    1 5258    3 6546 2364    5    1 3381    0\n",
      "     0    0]\n",
      " [   5  173 4409  656    0    0    0    0    0    0    0    0    0    0\n",
      "     0    0    0    0    0    0    0    0    0    0    0    0    0    0\n",
      "     0    0]\n",
      " [  12  157    1 8773  188 3382   24 3049 1382 4410    5  987   12 2557\n",
      "    74    1 8774    2    1 8775   16    6  569 1072    0    0    0    0\n",
      "     0    0]\n",
      " [1119    1  949  657   20   19    1  825 6547    2    1  988  911  357\n",
      "     0    0    0    0    0    0    0    0    0    0    0    0    0    0\n",
      "     0    0]\n",
      " [   1 5259    2 3383 2041  499    5    1  743    2    1 3820  876  112\n",
      "  5260   21  392   14    1 5259    2    1 1699    2  986    0    0    0\n",
      "     0    0]\n",
      " [   3   17   26  718 1601    5  989    8   14   32  950    2 1383 5261\n",
      "     0    0    0    0    0    0    0    0    0    0    0    0    0    0\n",
      "     0    0]\n",
      " [   1 2558  357  911   15 3383 1783    1 6548   27 1217   63  744 3384\n",
      "     2   59 8776    0    0    0    0    0    0    0    0    0    0    0\n",
      "     0    0]\n",
      " [  68  166   31 6549    0    0    0    0    0    0    0    0    0    0\n",
      "     0    0    0    0    0    0    0    0    0    0    0    0    0    0\n",
      "     0    0]\n",
      " [ 986   98   12  169  411  112   21  392   14    1 1699    2  463  657\n",
      "    16  291    2 3383 1783    0    0    0    0    0    0    0    0    0\n",
      "     0    0]\n",
      " [ 124   14   38  657   22 2559  745   14  570  657 4411 2365    2 1783\n",
      "  2801    4  376 8777    0    0    0    0    0    0    0    0    0    0\n",
      "     0    0]]\n"
     ]
    }
   ],
   "source": [
    "tokenizer = Tokenizer()\n",
    "tokenizer.fit_on_texts(texts)\n",
    "sequences = tokenizer.texts_to_sequences(texts)\n",
    "test = tokenizer.word_index\n",
    "print(sequences[:10])\n",
    "padded_sequence = pad_sequences(sequences, padding=\"post\", maxlen=30)"
   ]
  }
 ],
 "metadata": {
  "kernelspec": {
   "display_name": "tensorflow",
   "language": "python",
   "name": "python3"
  },
  "language_info": {
   "codemirror_mode": {
    "name": "ipython",
    "version": 3
   },
   "file_extension": ".py",
   "mimetype": "text/x-python",
   "name": "python",
   "nbconvert_exporter": "python",
   "pygments_lexer": "ipython3",
   "version": "3.9.18"
  },
  "orig_nbformat": 4
 },
 "nbformat": 4,
 "nbformat_minor": 2
}
