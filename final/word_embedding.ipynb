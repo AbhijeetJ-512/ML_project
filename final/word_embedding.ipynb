{
 "cells": [
  {
   "cell_type": "code",
   "execution_count": 1,
   "metadata": {},
   "outputs": [
    {
     "name": "stderr",
     "output_type": "stream",
     "text": [
      "2023-12-10 12:48:53.985065: I tensorflow/core/util/port.cc:113] oneDNN custom operations are on. You may see slightly different numerical results due to floating-point round-off errors from different computation orders. To turn them off, set the environment variable `TF_ENABLE_ONEDNN_OPTS=0`.\n",
      "2023-12-10 12:48:54.009428: E external/local_xla/xla/stream_executor/cuda/cuda_dnn.cc:9261] Unable to register cuDNN factory: Attempting to register factory for plugin cuDNN when one has already been registered\n",
      "2023-12-10 12:48:54.009454: E external/local_xla/xla/stream_executor/cuda/cuda_fft.cc:607] Unable to register cuFFT factory: Attempting to register factory for plugin cuFFT when one has already been registered\n",
      "2023-12-10 12:48:54.010079: E external/local_xla/xla/stream_executor/cuda/cuda_blas.cc:1515] Unable to register cuBLAS factory: Attempting to register factory for plugin cuBLAS when one has already been registered\n",
      "2023-12-10 12:48:54.014518: I tensorflow/core/platform/cpu_feature_guard.cc:182] This TensorFlow binary is optimized to use available CPU instructions in performance-critical operations.\n",
      "To enable the following instructions: AVX2 AVX512F AVX512_VNNI FMA, in other operations, rebuild TensorFlow with the appropriate compiler flags.\n",
      "2023-12-10 12:48:54.501662: W tensorflow/compiler/tf2tensorrt/utils/py_utils.cc:38] TF-TRT Warning: Could not find TensorRT\n"
     ]
    }
   ],
   "source": [
    "import tensorflow as tf\n",
    "import pandas as pd\n",
    "import numpy as np\n",
    "from tensorflow.keras.preprocessing.text import Tokenizer\n",
    "from tensorflow.keras.preprocessing.sequence import pad_sequences"
   ]
  },
  {
   "cell_type": "code",
   "execution_count": 10,
   "metadata": {},
   "outputs": [
    {
     "name": "stdout",
     "output_type": "stream",
     "text": [
      "14518\n"
     ]
    },
    {
     "data": {
      "text/plain": [
       "(13100, 30)"
      ]
     },
     "execution_count": 10,
     "metadata": {},
     "output_type": "execute_result"
    }
   ],
   "source": [
    "data = pd.read_csv(\n",
    "    \"../data/LJSpeech-1.1/metadata.csv\",\n",
    "    sep=\"|\",\n",
    "    header=None,\n",
    "    names=[\"ID\", \"Text1\", \"Text2\"],\n",
    ")\n",
    "texts = data[\"Text1\"].to_list()\n",
    "ID = data[\"ID\"].to_list()\n",
    "start = \"<START>\"\n",
    "End = \"<END>\"\n",
    "tokenizer = Tokenizer()\n",
    "text_with_token = [f\"{start},{text},{End}\" for text in texts]\n",
    "tokenizer.fit_on_texts(text_with_token)\n",
    "num_classes = len(tokenizer.word_index) + 1  # Add 1 for the padding token\n",
    "sequences = tokenizer.texts_to_sequences(text_with_token)\n",
    "Y_data = pad_sequences(sequences, padding=\"post\", maxlen=30)\n",
    "print(num_classes)\n",
    "Y_data.shape"
   ]
  },
  {
   "cell_type": "code",
   "execution_count": 3,
   "metadata": {},
   "outputs": [
    {
     "name": "stdout",
     "output_type": "stream",
     "text": [
      "[[   3  987    7    1   65 1529   17   22  120   51   20  255  718 8772\n",
      "    26   90   94   24   26   40    1 5258    5 6546 2365    7    1 3381\n",
      "     2    0]\n",
      " [   3    7  174 4409  657    2    0    0    0    0    0    0    0    0\n",
      "     0    0    0    0    0    0    0    0    0    0    0    0    0    0\n",
      "     0    0]\n",
      " [   3   14  158    1 8773  189 3382   26 3050 1383 4410    7  988   14\n",
      "  2558   75    1 8774    4    1 8775   18    8  570 1073    2    0    0\n",
      "     0    0]]\n"
     ]
    }
   ],
   "source": [
    "print(Y_data[0:3,])"
   ]
  },
  {
   "cell_type": "code",
   "execution_count": 6,
   "metadata": {},
   "outputs": [
    {
     "data": {
      "text/plain": [
       "array([   0,    3,  987,    7,    1,   65, 1529,   17,   22,  120,   51,\n",
       "         20,  255,  718, 8772,   26,   90,   94,   24,   26,   40,    1,\n",
       "       5258,    5, 6546, 2365,    7,    1, 3381,    2], dtype=int32)"
      ]
     },
     "execution_count": 6,
     "metadata": {},
     "output_type": "execute_result"
    }
   ],
   "source": [
    "shifted_words = np.zeros_like(Y_data)\n",
    "\n",
    "# Shift the words to the right\n",
    "shifted_words[:, 1:] = Y_data[:, :-1]\n",
    "shifted_words.shape\n",
    "shifted_words[0,]"
   ]
  },
  {
   "cell_type": "code",
   "execution_count": null,
   "metadata": {},
   "outputs": [],
   "source": [
    "output=tf.keras.layers.Embedding(Y_data, 50, input_length=50)"
   ]
  },
  {
   "cell_type": "code",
   "execution_count": 9,
   "metadata": {},
   "outputs": [
    {
     "name": "stdout",
     "output_type": "stream",
     "text": [
      "Model: \"sequential_2\"\n",
      "_________________________________________________________________\n",
      " Layer (type)                Output Shape              Param #   \n",
      "=================================================================\n",
      " embedding_1 (Embedding)     (None, 30, 50)            655000    \n",
      "                                                                 \n",
      "=================================================================\n",
      "Total params: 655000 (2.50 MB)\n",
      "Trainable params: 655000 (2.50 MB)\n",
      "Non-trainable params: 0 (0.00 Byte)\n",
      "_________________________________________________________________\n"
     ]
    }
   ],
   "source": [
    "from tensorflow.keras.models import Sequential\n",
    "from tensorflow.keras.layers import Embedding\n",
    "\n",
    "# Assuming you have a vocabulary size of 10000 and each word is represented by a 50-dimensional vector\n",
    "vocab_size = (13100)\n",
    "embedding_dim = 50\n",
    "\n",
    "# Create a simple Sequential model with an Embedding layer\n",
    "model = Sequential()\n",
    "\n",
    "# Add an Embedding layer to the model\n",
    "model.add(Embedding(input_dim=vocab_size, output_dim=embedding_dim, input_length=30))\n",
    "\n",
    "# Print a summary of the model\n",
    "model.summary()"
   ]
  }
 ],
 "metadata": {
  "kernelspec": {
   "display_name": "test",
   "language": "python",
   "name": "python3"
  },
  "language_info": {
   "codemirror_mode": {
    "name": "ipython",
    "version": 3
   },
   "file_extension": ".py",
   "mimetype": "text/x-python",
   "name": "python",
   "nbconvert_exporter": "python",
   "pygments_lexer": "ipython3",
   "version": "3.9.18"
  }
 },
 "nbformat": 4,
 "nbformat_minor": 2
}
