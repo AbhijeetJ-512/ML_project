{
 "cells": [
  {
   "cell_type": "code",
   "execution_count": null,
   "metadata": {},
   "outputs": [],
   "source": [
    "import librosa\n",
    "import librosa.display\n",
    "import IPython.display as ipd\n",
    "import os\n",
    "import numpy as np"
   ]
  },
  {
   "cell_type": "code",
   "execution_count": null,
   "metadata": {},
   "outputs": [],
   "source": [
    "def feature_extraction(audio_path):\n",
    "    x, sample_rate = librosa.load(audio_path, res_type=\"kaiser_fast\")\n",
    "    mfcc = np.mean(librosa.feature.mfcc(y=x, sr=sample_rate, n_mfcc=100).T, axis=0)\n",
    "    return mfcc"
   ]
  },
  {
   "cell_type": "code",
   "execution_count": null,
   "metadata": {},
   "outputs": [],
   "source": [
    "features = {}\n",
    "i = 0\n",
    "directory = \"E:\\\\ML project\\\\codes\\\\data\\\\LJSpeech-1.1\\\\wavs\\\\\"\n",
    "for audio in os.listdir(directory):\n",
    "    audio_path = directory + audio\n",
    "    features[i] = feature_extraction(audio_path)\n",
    "    if i % 100 == 0:\n",
    "        print(i)\n",
    "    i += 1"
   ]
  },
  {
   "cell_type": "code",
   "execution_count": null,
   "metadata": {},
   "outputs": [],
   "source": [
    "features[0]"
   ]
  },
  {
   "cell_type": "code",
   "execution_count": null,
   "metadata": {},
   "outputs": [],
   "source": [
    "# Function to create a 10x10 matrix from an array\n",
    "def create_10x10_matrix(array):\n",
    "    if len(array) >= 100:\n",
    "        return array[:100].reshape(10, 10)\n",
    "    else:\n",
    "        return None  # Not enough elements to create a 10x10 matrix\n",
    "\n",
    "\n",
    "# Create a list to store the matrices\n",
    "matrix_list = []\n",
    "\n",
    "# Iterate through the keys and create matrices\n",
    "for key in features:\n",
    "    matrix = create_10x10_matrix(features[key])\n",
    "    if matrix is not None:\n",
    "        matrix_list.append(matrix)\n",
    "\n",
    "# Convert the list of matrices to a NumPy array\n",
    "matrix_array = np.array(matrix_list)\n",
    "\n",
    "# Example: Print the shape of the resulting array\n",
    "print(\"Shape of the matrix array:\", matrix_array.shape)\n",
    "matrix_array[0]"
   ]
  },
  {
   "cell_type": "code",
   "execution_count": null,
   "metadata": {},
   "outputs": [],
   "source": [
    "from tensorflow.keras.models import Sequential\n",
    "from tensorflow.keras.layers import Conv2D, MaxPooling2D, Flatten, Dense\n",
    "\n",
    "# Assuming you have a 3D NumPy array 'matrix_array' containing your 10x10 matrices\n",
    "# The shape of matrix_array should be (num_matrices, 10, 10)\n",
    "\n",
    "# Reshape to add the channel dimension\n",
    "matrix_array_reshaped = matrix_array.reshape(matrix_array.shape[0], 10, 10, 1)\n",
    "y = np.load(\"E:\\\\ML project\\\\codes\\\\nlp\\\\cnn_output.npy\")  # normailized\n",
    "y = y.reshape(-1, 30)"
   ]
  },
  {
   "cell_type": "code",
   "execution_count": null,
   "metadata": {},
   "outputs": [],
   "source": [
    "# Build a simple CNN model\n",
    "model = Sequential()\n",
    "model.add(Conv2D(32, kernel_size=(3, 3), activation=None, input_shape=(10, 10, 1)))\n",
    "model.add(MaxPooling2D(pool_size=(2, 2)))\n",
    "model.add(Flatten())\n",
    "model.add(Dense(128, activation=None))\n",
    "model.add(Dense(30, activation=None))\n",
    "\n",
    "# Compile the model\n",
    "model.compile(optimizer=\"adam\", loss=\"mse\", metrics=[\"accuracy\"])"
   ]
  },
  {
   "cell_type": "code",
   "execution_count": null,
   "metadata": {},
   "outputs": [],
   "source": [
    "# Train the model\n",
    "model.fit(matrix_array_reshaped, y, epochs=100, batch_size=32)"
   ]
  },
  {
   "cell_type": "code",
   "execution_count": null,
   "metadata": {},
   "outputs": [],
   "source": [
    "matrix_array_reshaped = matrix_array.reshape(matrix_array.shape[0], 10, 10, 1)\n",
    "\n",
    "# Make predictions\n",
    "predictions = model.predict(matrix_array_reshaped)\n",
    "\n",
    "predictions[0], y[0]"
   ]
  },
  {
   "cell_type": "code",
   "execution_count": null,
   "metadata": {},
   "outputs": [],
   "source": [
    "from sklearn.metrics import mean_squared_error\n",
    "\n",
    "# Make predictions\n",
    "predictions = model.predict(matrix_array_reshaped)\n",
    "\n",
    "# Calculate MSE\n",
    "mse = mean_squared_error(y, predictions)\n",
    "\n",
    "print(\"Mean Squared Error:\", mse)"
   ]
  }
 ],
 "metadata": {
  "kernelspec": {
   "display_name": "project",
   "language": "python",
   "name": "python3"
  },
  "language_info": {
   "codemirror_mode": {
    "name": "ipython",
    "version": 3
   },
   "file_extension": ".py",
   "mimetype": "text/x-python",
   "name": "python",
   "nbconvert_exporter": "python",
   "pygments_lexer": "ipython3",
   "version": "3.9.18"
  },
  "orig_nbformat": 4
 },
 "nbformat": 4,
 "nbformat_minor": 2
}
