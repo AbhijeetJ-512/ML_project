{
 "cells": [
  {
   "cell_type": "code",
   "execution_count": null,
   "metadata": {},
   "outputs": [],
   "source": [
    "import pandas as pd"
   ]
  },
  {
   "cell_type": "code",
   "execution_count": null,
   "metadata": {},
   "outputs": [],
   "source": [
    "# Read the CSV file into a DataFrame\n",
    "df = pd.read_csv(\n",
    "    \"E:\\\\ML project\\\\codes\\\\data\\\\LJSpeech-1.1\\\\metadata.csv\",\n",
    "    sep=\"|\",\n",
    "    header=None,\n",
    "    names=[\"ID\", \"Text1\", \"Text2\"],\n",
    ")\n",
    "\n",
    "# Display the DataFrame\n",
    "print(df)"
   ]
  },
  {
   "cell_type": "code",
   "execution_count": null,
   "metadata": {},
   "outputs": [],
   "source": [
    "import pandas as pd\n",
    "from nltk.tokenize import word_tokenize\n",
    "from nltk.probability import FreqDist\n",
    "from nltk.corpus import stopwords\n",
    "import nltk\n",
    "\n",
    "# nltk.download(\"punkt\")\n",
    "# nltk.download(\"stopwords\")\n",
    "\n",
    "# Read the CSV file into a DataFrame\n",
    "df = pd.read_csv(\n",
    "    \"E:\\\\ML project\\\\codes\\\\data\\\\LJSpeech-1.1\\\\metadata.csv\",\n",
    "    sep=\"|\",\n",
    "    header=None,\n",
    "    names=[\"ID\", \"Text1\", \"Text2\"],\n",
    ")\n",
    "print(\"1\")\n",
    "\n",
    "\n",
    "# Tokenize and lowercase the text\n",
    "all_tokens = [word.lower() for text in df[\"Text1\"] for word in word_tokenize(text)]\n",
    "print(\"1\")\n",
    "# Remove stopwords\n",
    "stop_words = set(stopwords.words(\"english\"))\n",
    "filtered_tokens = [\n",
    "    word for word in all_tokens if word.isalnum() and word not in stop_words\n",
    "]\n",
    "print(\"1\")\n",
    "# Calculate the frequency distribution\n",
    "fdist = FreqDist(filtered_tokens)\n",
    "print(fdist)\n",
    "# Vocabulary size\n",
    "vocab_size = len(fdist)\n",
    "\n",
    "print(\"Vocabulary Size:\", vocab_size)"
   ]
  },
  {
   "cell_type": "code",
   "execution_count": 2,
   "metadata": {},
   "outputs": [
    {
     "name": "stdout",
     "output_type": "stream",
     "text": [
      "[[5.61167228e-04 1.12233446e-03 1.68350168e-03 ... 0.00000000e+00\n",
      "  0.00000000e+00 0.00000000e+00]\n",
      " [1.12233446e-03 1.06621773e-02 1.12233446e-02 ... 0.00000000e+00\n",
      "  0.00000000e+00 0.00000000e+00]\n",
      " [1.17845118e-02 1.23456790e-02 1.68350168e-03 ... 0.00000000e+00\n",
      "  0.00000000e+00 0.00000000e+00]\n",
      " ...\n",
      " [2.58136925e-02 3.47923681e-02 3.59147026e-02 ... 0.00000000e+00\n",
      "  0.00000000e+00 0.00000000e+00]\n",
      " [3.36700337e-03 1.68350168e-03 6.01571268e-01 ... 0.00000000e+00\n",
      "  0.00000000e+00 0.00000000e+00]\n",
      " [1.68350168e-03 6.10549944e-01 4.48933782e-03 ... 0.00000000e+00\n",
      "  0.00000000e+00 0.00000000e+00]]\n",
      "13100\n",
      "1782\n"
     ]
    }
   ],
   "source": [
    "# from gensim.models import Word2Vec\n",
    "from tensorflow.keras.preprocessing.text import Tokenizer\n",
    "from tensorflow.keras.preprocessing.sequence import pad_sequences\n",
    "import pandas as pd\n",
    "import numpy as np\n",
    "\n",
    "df = pd.read_csv(\n",
    "    \"E:\\\\ML project\\\\codes\\\\data\\\\LJSpeech-1.1\\\\metadata.csv\",\n",
    "    sep=\"|\",\n",
    "    header=None,\n",
    "    names=[\"ID\", \"Text1\", \"Text2\"],\n",
    ")\n",
    "# Assuming df is your DataFrame\n",
    "texts = df[\"Text1\"].tolist()\n",
    "\n",
    "# Tokenize and fit a Word2Vec model\n",
    "tokenizer = Tokenizer()\n",
    "tokenizer.fit_on_texts(texts)\n",
    "threshold = 14\n",
    "\n",
    "# Filter the vocabulary based on some criteria, e.g., frequency\n",
    "filtered_vocab = [\n",
    "    word for word, count in tokenizer.word_counts.items() if count > threshold\n",
    "]\n",
    "\n",
    "# Limit the tokenizer's vocabulary to the filtered vocab\n",
    "tokenizer.word_index = {word: index for index, word in enumerate(filtered_vocab, 1)}\n",
    "tokenizer.word_counts = {\n",
    "    word: count\n",
    "    for word, count in tokenizer.word_counts.items()\n",
    "    if word in filtered_vocab\n",
    "}\n",
    "\n",
    "# Now, you can use the tokenizer for sequence generation\n",
    "sequences = tokenizer.texts_to_sequences(texts)\n",
    "padded_sequences = pad_sequences(sequences, padding=\"post\", maxlen=30)\n",
    "# print(np.max(padded_sequences))\n",
    "# print(len(padded_sequences))\n",
    "# texts[1]\n",
    "# np.save(\"padded_sequence_15\", padded_sequences)\n",
    "import numpy as np\n",
    "\n",
    "normalized_sequences = np.array(padded_sequences) / np.max(np.array(padded_sequences))\n",
    "\n",
    "print(normalized_sequences)\n",
    "print(len(normalized_sequences))\n",
    "print(np.max(padded_sequences))\n",
    "# np.save(\"norm_pad_15\", normalized_sequences)"
   ]
  },
  {
   "cell_type": "code",
   "execution_count": 9,
   "metadata": {},
   "outputs": [
    {
     "name": "stdout",
     "output_type": "stream",
     "text": [
      "[[ 2 24 25 26  0  0  0  0  0  0  0  0  0  0  0  0  0  0  0  0  0  0  0  0\n",
      "   0  0  0  0  0  0]\n",
      " [27 28  3 29 30 31 14 32 33 34  2 35 27 36 37  3 38 39  3 40 41 42 43 44\n",
      "   0  0  0  0  0  0]\n",
      " [45  3 46 47  7 48  3 49 50 39  3 51 52 53  0  0  0  0  0  0  0  0  0  0\n",
      "   0  0  0  0  0  0]\n",
      " [ 3 54 39 55 56 57  2  3 58 39  3 59 60 61 62 63 64 65  3 54 39  3 66 39\n",
      "   1  0  0  0  0  0]\n",
      " [20 67 68 69 70  2 71 72 65 73 74 39 75 76  0  0  0  0  0  0  0  0  0  0\n",
      "   0  0  0  0  0  0]]\n",
      "Original Text: in being comparatively modern.\n",
      "Tokens: [[2, 24, 25, 26]]\n"
     ]
    }
   ],
   "source": [
    "first_text = texts[1]\n",
    "first_text_tokens = tokenizer.texts_to_sequences([first_text])\n",
    "print(padded_sequences[1:6])\n",
    "print(f\"Original Text: {first_text}\")\n",
    "print(f\"Tokens: {first_text_tokens}\")"
   ]
  }
 ],
 "metadata": {
  "kernelspec": {
   "display_name": "project",
   "language": "python",
   "name": "python3"
  },
  "language_info": {
   "codemirror_mode": {
    "name": "ipython",
    "version": 3
   },
   "file_extension": ".py",
   "mimetype": "text/x-python",
   "name": "python",
   "nbconvert_exporter": "python",
   "pygments_lexer": "ipython3",
   "version": "3.9.18"
  },
  "orig_nbformat": 4
 },
 "nbformat": 4,
 "nbformat_minor": 2
}
