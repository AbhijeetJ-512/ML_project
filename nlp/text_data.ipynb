{
 "cells": [
  {
   "cell_type": "code",
   "execution_count": null,
   "metadata": {},
   "outputs": [],
   "source": [
    "import pandas as pd"
   ]
  },
  {
   "cell_type": "code",
   "execution_count": null,
   "metadata": {},
   "outputs": [],
   "source": [
    "# Read the CSV file into a DataFrame\n",
    "df = pd.read_csv(\n",
    "    \"E:\\\\ML project\\\\codes\\\\data\\\\LJSpeech-1.1\\\\metadata.csv\",\n",
    "    sep=\"|\",\n",
    "    header=None,\n",
    "    names=[\"ID\", \"Text1\", \"Text2\"],\n",
    ")\n",
    "\n",
    "# Display the DataFrame\n",
    "print(df)"
   ]
  },
  {
   "cell_type": "code",
   "execution_count": null,
   "metadata": {},
   "outputs": [],
   "source": [
    "import pandas as pd\n",
    "from nltk.tokenize import word_tokenize\n",
    "from nltk.probability import FreqDist\n",
    "from nltk.corpus import stopwords\n",
    "import nltk\n",
    "\n",
    "# nltk.download(\"punkt\")\n",
    "# nltk.download(\"stopwords\")\n",
    "\n",
    "# Read the CSV file into a DataFrame\n",
    "df = pd.read_csv(\n",
    "    \"E:\\\\ML project\\\\codes\\\\data\\\\LJSpeech-1.1\\\\metadata.csv\",\n",
    "    sep=\"|\",\n",
    "    header=None,\n",
    "    names=[\"ID\", \"Text1\", \"Text2\"],\n",
    ")\n",
    "print(\"1\")\n",
    "\n",
    "\n",
    "# Tokenize and lowercase the text\n",
    "all_tokens = [word.lower() for text in df[\"Text1\"] for word in word_tokenize(text)]\n",
    "print(\"1\")\n",
    "# Remove stopwords\n",
    "stop_words = set(stopwords.words(\"english\"))\n",
    "filtered_tokens = [\n",
    "    word for word in all_tokens if word.isalnum() and word not in stop_words\n",
    "]\n",
    "print(\"1\")\n",
    "# Calculate the frequency distribution\n",
    "fdist = FreqDist(filtered_tokens)\n",
    "print(fdist)\n",
    "# Vocabulary size\n",
    "vocab_size = len(fdist)\n",
    "\n",
    "print(\"Vocabulary Size:\", vocab_size)"
   ]
  },
  {
   "cell_type": "code",
   "execution_count": 7,
   "metadata": {},
   "outputs": [
    {
     "name": "stdout",
     "output_type": "stream",
     "text": [
      "3820\n"
     ]
    }
   ],
   "source": [
    "# from gensim.models import Word2Vec\n",
    "from tensorflow.keras.preprocessing.text import Tokenizer\n",
    "from tensorflow.keras.preprocessing.sequence import pad_sequences\n",
    "import pandas as pd\n",
    "import numpy as np\n",
    "\n",
    "df = pd.read_csv(\n",
    "    \"../data/LJSpeech-1.1/metadata.csv\",\n",
    "    sep=\"|\",\n",
    "    header=None,\n",
    "    names=[\"ID\", \"Text1\", \"Text2\"],\n",
    ")\n",
    "# Assuming df is your DataFrame\n",
    "texts = df[\"Text1\"].tolist()\n",
    "\n",
    "# Tokenize and fit a Word2Vec model\n",
    "tokenizer = Tokenizer()\n",
    "tokenizer.fit_on_texts(texts)\n",
    "threshold = 5\n",
    "\n",
    "# Filter the vocabulary based on some criteria, e.g., frequency\n",
    "filtered_vocab = [\n",
    "    word for word, count in tokenizer.word_counts.items() if count > threshold\n",
    "]\n",
    "\n",
    "# Limit the tokenizer's vocabulary to the filtered vocab\n",
    "tokenizer.word_index = {word: index for index, word in enumerate(filtered_vocab, 1)}\n",
    "tokenizer.word_counts = {\n",
    "    word: count\n",
    "    for word, count in tokenizer.word_counts.items()\n",
    "    if word in filtered_vocab\n",
    "}\n",
    "\n",
    "# Now, you can use the tokenizer for sequence generation\n",
    "sequences = tokenizer.texts_to_sequences(texts)\n",
    "num_classes = len(tokenizer.word_index) + 1  # Add 1 for the padding token\n",
    "padded_sequences = pad_sequences(sequences, padding=\"post\", maxlen=30)\n",
    "# np.save(\"../data/pad_data_5\",padded_sequences)\n",
    "# print(np.max(padded_sequences))\n",
    "# print(len(padded_sequences))\n",
    "# texts[1]\n",
    "# np.save(\"padded_sequence_15\", padded_sequences)\n",
    "print(num_classes)"
   ]
  },
  {
   "cell_type": "code",
   "execution_count": 2,
   "metadata": {},
   "outputs": [
    {
     "name": "stdout",
     "output_type": "stream",
     "text": [
      "[[ 2 21 22  0  0  0  0  0  0  0  0  0  0  0  0  0  0  0  0  0  0  0  0  0\n",
      "   0  0  0  0  0  0]\n",
      " [23 24  3 25 26 13 27 28  2 29 23 30 31  3 32  3 33 34 35 36  0  0  0  0\n",
      "   0  0  0  0  0  0]\n",
      " [37  3 38 39  7 40  3 41 32  3 42 43 44  0  0  0  0  0  0  0  0  0  0  0\n",
      "   0  0  0  0  0  0]\n",
      " [ 3 32 45 46 47  2  3 48 32  3 49 50 51 52 53  3 32  3 54 32  1  0  0  0\n",
      "   0  0  0  0  0  0]\n",
      " [18 55 56 57 58  2 59 60 53 61 62 32 63  0  0  0  0  0  0  0  0  0  0  0\n",
      "   0  0  0  0  0  0]]\n",
      "Original Text: in being comparatively modern.\n",
      "Tokens: [[2, 21, 22]]\n"
     ]
    }
   ],
   "source": [
    "first_text = texts[1]\n",
    "first_text_tokens = tokenizer.texts_to_sequences([first_text])\n",
    "print(padded_sequences[1:6])\n",
    "print(f\"Original Text: {first_text}\")\n",
    "print(f\"Tokens: {first_text_tokens}\")"
   ]
  }
 ],
 "metadata": {
  "kernelspec": {
   "display_name": "project",
   "language": "python",
   "name": "python3"
  },
  "language_info": {
   "codemirror_mode": {
    "name": "ipython",
    "version": 3
   },
   "file_extension": ".py",
   "mimetype": "text/x-python",
   "name": "python",
   "nbconvert_exporter": "python",
   "pygments_lexer": "ipython3",
   "version": "3.9.18"
  },
  "orig_nbformat": 4
 },
 "nbformat": 4,
 "nbformat_minor": 2
}
