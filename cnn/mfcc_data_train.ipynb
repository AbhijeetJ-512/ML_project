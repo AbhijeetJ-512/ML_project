{
 "cells": [
  {
   "cell_type": "code",
   "execution_count": null,
   "metadata": {},
   "outputs": [],
   "source": [
    "from tensorflow.keras.models import Sequential\n",
    "from tensorflow.keras.layers import Conv2D, MaxPooling2D, Flatten, Dense\n",
    "from tensorflow.keras.optimizers import Adam\n",
    "from tensorflow.keras.callbacks import LearningRateScheduler\n",
    "from tensorflow.keras.callbacks import EarlyStopping\n",
    "import numpy as np\n",
    "from sklearn.metrics import mean_squared_error\n",
    "from sklearn.model_selection import train_test_split"
   ]
  },
  {
   "cell_type": "code",
   "execution_count": null,
   "metadata": {},
   "outputs": [],
   "source": [
    "x = np.load(\"E:\\\\ML project\\\\codes\\\\MFCC\\\\mfcc2_data.npy\")\n",
    "matrix_array = x.reshape(x.shape[0], 10, 10, 1)\n",
    "y = np.load(\"E:\\\\ML project\\\\codes\\\\nlp\\\\cnn_output.npy\")  # normailized\n",
    "# y = np.load(\"E:\\\\ML project\\\\codes\\\\nlp\\\\padded_sequence_0.npy\")\n",
    "# y = np.load(\"E:\\\\ML project\\\\codes\\\\nlp\\\\padded_sequence_15.npy\")\n",
    "# y = np.load(\"E:\\\\ML project\\\\codes\\\\nlp\\\\norm_pad_15.npy\")\n",
    "y = y.reshape(-1, 30)\n",
    "y[0]"
   ]
  },
  {
   "cell_type": "code",
   "execution_count": null,
   "metadata": {},
   "outputs": [],
   "source": [
    "# Split the data into training and validation sets\n",
    "X_train, X_val, y_train, y_val = train_test_split(x, y, test_size=0.2, random_state=42)\n",
    "\n",
    "# Reshape to add the channel dimension\n",
    "X_train_reshaped = X_train.reshape(X_train.shape[0], 10, 10, 1)\n",
    "X_val_reshaped = X_val.reshape(X_val.shape[0], 10, 10, 1)\n",
    "\n",
    "\n",
    "# # # Define a learning rate scheduler function\n",
    "# def lr_scheduler(epoch, lr):\n",
    "#     return lr * 0.99  # Adjust the multiplier as needed\n",
    "\n",
    "\n",
    "# # Define early stopping callback\n",
    "# early_stopping_callback = EarlyStopping(\n",
    "#     patience=10,  # Number of epochs with no improvement after which training will be stopped\n",
    "#     restore_best_weights=True,\n",
    "#     monitor=\"val_loss\",  # Metric to monitor (could be 'val_mse' or 'val_mae' based on your choice)\n",
    "# )\n",
    "\n",
    "\n",
    "# Build a simple CNN model\n",
    "model = Sequential()\n",
    "model.add(Conv2D(64, kernel_size=(3, 3), activation=None, input_shape=(10, 10, 1)))\n",
    "model.add(MaxPooling2D(pool_size=(2, 2)))\n",
    "model.add(Flatten())\n",
    "model.add(Dense(128, activation=None))\n",
    "model.add(Dense(128, activation=None))\n",
    "model.add(Dense(128, activation=None))\n",
    "model.add(Dense(30, activation=None))\n",
    "\n",
    "# # Use the Adam optimizer with the learning rate scheduler\n",
    "optimizer = Adam(learning_rate=0.0050)  # Set the initial learning rate\n",
    "model.compile(optimizer=optimizer, loss=\"mse\", metrics=[\"mse\"])\n",
    "\n",
    "# Use MAE as the loss function\n",
    "# optimizer = Adam(learning_rate=0.01)\n",
    "# model.compile(optimizer=optimizer, loss=\"mae\", metrics=[\"mae\"])\n",
    "\n",
    "# Define the learning rate scheduler callback\n",
    "# lr_scheduler_callback = LearningRateScheduler(lr_scheduler, verbose=1)"
   ]
  },
  {
   "cell_type": "code",
   "execution_count": null,
   "metadata": {},
   "outputs": [],
   "source": [
    "# Train the model with the early stopping callback\n",
    "history = model.fit(\n",
    "    X_train_reshaped,\n",
    "    y_train,\n",
    "    epochs=100,\n",
    "    batch_size=32,\n",
    "    validation_data=(X_val_reshaped, y_val),\n",
    "    # callbacks=[lr_scheduler_callback],\n",
    ")"
   ]
  },
  {
   "cell_type": "code",
   "execution_count": null,
   "metadata": {},
   "outputs": [],
   "source": [
    "# Make predictions\n",
    "predictions = model.predict(X_val_reshaped)\n",
    "\n",
    "# Calculate MSE on validation set\n",
    "mse_val = mean_squared_error(y_val, predictions)\n",
    "print(\"Mean Squared Error on Validation Set:\", mse_val)\n",
    "predictions[100], y[100]"
   ]
  }
 ],
 "metadata": {
  "kernelspec": {
   "display_name": "project",
   "language": "python",
   "name": "python3"
  },
  "language_info": {
   "codemirror_mode": {
    "name": "ipython",
    "version": 3
   },
   "file_extension": ".py",
   "mimetype": "text/x-python",
   "name": "python",
   "nbconvert_exporter": "python",
   "pygments_lexer": "ipython3",
   "version": "3.9.18"
  },
  "orig_nbformat": 4
 },
 "nbformat": 4,
 "nbformat_minor": 2
}
